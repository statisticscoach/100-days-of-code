{
 "cells": [
  {
   "cell_type": "markdown",
   "id": "308ed14a",
   "metadata": {},
   "source": [
    "# for loop\n",
    "\n",
    "**for** item **in** list_of_items **:**\n",
    "\n",
    "    task"
   ]
  },
  {
   "cell_type": "code",
   "execution_count": 6,
   "id": "4beabca2",
   "metadata": {},
   "outputs": [
    {
     "name": "stdout",
     "output_type": "stream",
     "text": [
      "['Apple', 'Peach', 'Pear']\n"
     ]
    }
   ],
   "source": [
    "fruits = [\"Apple\", \"Peach\", \"Pear\"]\n",
    "print(fruits)"
   ]
  },
  {
   "cell_type": "code",
   "execution_count": 7,
   "id": "78135abc",
   "metadata": {},
   "outputs": [
    {
     "name": "stdout",
     "output_type": "stream",
     "text": [
      "Apple\n",
      "Peach\n",
      "Pear\n"
     ]
    }
   ],
   "source": [
    "for fruit in fruits:\n",
    "  print(fruit)"
   ]
  },
  {
   "cell_type": "code",
   "execution_count": 8,
   "id": "41fd6888",
   "metadata": {},
   "outputs": [
    {
     "name": "stdout",
     "output_type": "stream",
     "text": [
      "Apple\n",
      "Apple Pie\n",
      "Peach\n",
      "Peach Pie\n",
      "Pear\n",
      "Pear Pie\n"
     ]
    }
   ],
   "source": [
    "for fruit in fruits:\n",
    "    print(fruit)\n",
    "    #indentation is important! everything indented is repeated in the loop\n",
    "    print(fruit + \" Pie\")\n"
   ]
  },
  {
   "cell_type": "code",
   "execution_count": 29,
   "id": "16c0bfff",
   "metadata": {},
   "outputs": [
    {
     "name": "stdout",
     "output_type": "stream",
     "text": [
      "164\n"
     ]
    }
   ],
   "source": [
    "student_heights = [180, 124, 165, 173, 189, 169, 146]\n",
    "\n",
    "av_hight = 0\n",
    "m = 0\n",
    "\n",
    "for hight in student_heights:\n",
    "    #use singular form for iteration hight vs heights\n",
    "    av_hight += hight\n",
    "    m+=1\n",
    "print(round(av_hight/m))\n",
    "\n",
    "#or sum() and (len)"
   ]
  },
  {
   "cell_type": "code",
   "execution_count": 30,
   "id": "9cb8f021",
   "metadata": {},
   "outputs": [],
   "source": [
    "# max() min()\n",
    "student_scores = [78, 65, 89, 86, 55, 91, 64, 89]"
   ]
  },
  {
   "cell_type": "code",
   "execution_count": 31,
   "id": "ff0ff015",
   "metadata": {},
   "outputs": [
    {
     "name": "stdout",
     "output_type": "stream",
     "text": [
      "The highest score in the class is: 91\n"
     ]
    }
   ],
   "source": [
    "max_score = 0 \n",
    "for score in student_scores:\n",
    "    if max_score <= score:\n",
    "        max_score = score\n",
    "\n",
    "print(f\"The highest score in the class is: {max_score}\")\n"
   ]
  },
  {
   "cell_type": "markdown",
   "id": "ab78096a",
   "metadata": {},
   "source": [
    "# range"
   ]
  },
  {
   "cell_type": "code",
   "execution_count": 34,
   "id": "a375b81a",
   "metadata": {},
   "outputs": [
    {
     "name": "stdout",
     "output_type": "stream",
     "text": [
      "1\n",
      "2\n",
      "3\n",
      "4\n"
     ]
    }
   ],
   "source": [
    "for number in range(1,5): #not the last digit\n",
    "    print(number)"
   ]
  },
  {
   "cell_type": "code",
   "execution_count": 35,
   "id": "5b8e0f7c",
   "metadata": {},
   "outputs": [
    {
     "name": "stdout",
     "output_type": "stream",
     "text": [
      "1\n",
      "4\n",
      "7\n",
      "10\n"
     ]
    }
   ],
   "source": [
    "for number in range(1,11,3): #3 steps\n",
    "    print(number)"
   ]
  },
  {
   "cell_type": "code",
   "execution_count": 36,
   "id": "c56152ce",
   "metadata": {},
   "outputs": [
    {
     "name": "stdout",
     "output_type": "stream",
     "text": [
      "5050\n"
     ]
    }
   ],
   "source": [
    "total = 0\n",
    "for number in range(1,101): #3 steps\n",
    "    total +=number\n",
    "print(total)"
   ]
  },
  {
   "cell_type": "code",
   "execution_count": 40,
   "id": "061a43e4",
   "metadata": {},
   "outputs": [
    {
     "name": "stdout",
     "output_type": "stream",
     "text": [
      "2550\n"
     ]
    }
   ],
   "source": [
    "total = 0\n",
    "for number in range(2,101,2): #3 steps\n",
    "    total +=number\n",
    "print(total)"
   ]
  },
  {
   "cell_type": "code",
   "execution_count": 42,
   "id": "83c75975",
   "metadata": {},
   "outputs": [
    {
     "name": "stdout",
     "output_type": "stream",
     "text": [
      "2550\n"
     ]
    }
   ],
   "source": [
    "total = 0\n",
    "for number in range(1,101): \n",
    "    if number %2 == 0:\n",
    "        total +=number\n",
    "print(total)"
   ]
  },
  {
   "cell_type": "markdown",
   "id": "76b5984f",
   "metadata": {},
   "source": [
    "# FizzBuz\n"
   ]
  },
  {
   "cell_type": "code",
   "execution_count": 46,
   "id": "2a1fb455",
   "metadata": {},
   "outputs": [
    {
     "name": "stdout",
     "output_type": "stream",
     "text": [
      "1\n",
      "2\n",
      "Fizz\n",
      "4\n",
      "Buzz\n",
      "Fizz\n",
      "7\n",
      "8\n",
      "Fizz\n",
      "Buzz\n",
      "11\n",
      "Fizz\n",
      "13\n",
      "14\n",
      "FizzBuzz\n",
      "16\n",
      "17\n",
      "Fizz\n",
      "19\n",
      "Buzz\n",
      "Fizz\n",
      "22\n",
      "23\n",
      "Fizz\n",
      "Buzz\n",
      "26\n",
      "Fizz\n",
      "28\n",
      "29\n",
      "FizzBuzz\n",
      "31\n",
      "32\n",
      "Fizz\n",
      "34\n",
      "Buzz\n",
      "Fizz\n",
      "37\n",
      "38\n",
      "Fizz\n",
      "Buzz\n",
      "41\n",
      "Fizz\n",
      "43\n",
      "44\n",
      "FizzBuzz\n",
      "46\n",
      "47\n",
      "Fizz\n",
      "49\n",
      "Buzz\n",
      "Fizz\n",
      "52\n",
      "53\n",
      "Fizz\n",
      "Buzz\n",
      "56\n",
      "Fizz\n",
      "58\n",
      "59\n",
      "FizzBuzz\n",
      "61\n",
      "62\n",
      "Fizz\n",
      "64\n",
      "Buzz\n",
      "Fizz\n",
      "67\n",
      "68\n",
      "Fizz\n",
      "Buzz\n",
      "71\n",
      "Fizz\n",
      "73\n",
      "74\n",
      "FizzBuzz\n",
      "76\n",
      "77\n",
      "Fizz\n",
      "79\n",
      "Buzz\n",
      "Fizz\n",
      "82\n",
      "83\n",
      "Fizz\n",
      "Buzz\n",
      "86\n",
      "Fizz\n",
      "88\n",
      "89\n",
      "FizzBuzz\n",
      "91\n",
      "92\n",
      "Fizz\n",
      "94\n",
      "Buzz\n",
      "Fizz\n",
      "97\n",
      "98\n",
      "Fizz\n",
      "Buzz\n"
     ]
    }
   ],
   "source": [
    "for number in range(1,101):\n",
    "    if number % 15 == 0:\n",
    "        print(\"FizzBuzz\")\n",
    "    elif number % 3 == 0:\n",
    "        print(\"Fizz\")\n",
    "    elif number % 5 == 0:\n",
    "        print(\"Buzz\")\n",
    "    else:\n",
    "        print(number)\n",
    "\n",
    "# as soon as if/elif true it skips the rest!!!"
   ]
  },
  {
   "cell_type": "markdown",
   "id": "83afadf5",
   "metadata": {},
   "source": [
    "# password generator"
   ]
  },
  {
   "cell_type": "code",
   "execution_count": 94,
   "id": "a0213423",
   "metadata": {},
   "outputs": [
    {
     "name": "stdout",
     "output_type": "stream",
     "text": [
      "Welcome to the PyPassword Generator!\n",
      "How many letters would you like in your password?\n",
      "2\n",
      "How many symbols would you like?\n",
      "2\n",
      "How many numbers would you like?\n",
      "2\n",
      "LJ)$37\n"
     ]
    }
   ],
   "source": [
    "#Password Generator Project\n",
    "import random\n",
    "letters = ['a', 'b', 'c', 'd', 'e', 'f', 'g', 'h', 'i', 'j', 'k', 'l', 'm', 'n', 'o', 'p', 'q', 'r', 's', 't', 'u', 'v', 'w', 'x', 'y', 'z', 'A', 'B', 'C', 'D', 'E', 'F', 'G', 'H', 'I', 'J', 'K', 'L', 'M', 'N', 'O', 'P', 'Q', 'R', 'S', 'T', 'U', 'V', 'W', 'X', 'Y', 'Z']\n",
    "numbers = ['0', '1', '2', '3', '4', '5', '6', '7', '8', '9']\n",
    "symbols = ['!', '#', '$', '%', '&', '(', ')', '*', '+']\n",
    "\n",
    "print(\"Welcome to the PyPassword Generator!\")\n",
    "nr_letters= int(input(\"How many letters would you like in your password?\\n\")) \n",
    "nr_symbols = int(input(f\"How many symbols would you like?\\n\"))\n",
    "nr_numbers = int(input(f\"How many numbers would you like?\\n\"))\n",
    "\n",
    "#Eazy Level - Order not randomised:\n",
    "#e.g. 4 letter, 2 symbol, 2 number = JduE&!91\n",
    "password =\"\"\n",
    "for letter in range(1,nr_letters+1): #1 less then nr_letters\n",
    "    #password += letters[random.randint(0,len(letters)-1)]\n",
    "    password += random.choice(letters) # generates one random element from letters\n",
    " \n",
    "for symbol in range(0,nr_symbols):\n",
    "    password += symbols[random.randint(0,len(symbols)-1)]\n",
    "\n",
    "for number in range(0,nr_numbers):\n",
    "    password += numbers[random.randint(0,len(numbers)-1)]\n",
    "    \n",
    "print(password)\n",
    "\n"
   ]
  },
  {
   "cell_type": "code",
   "execution_count": 95,
   "id": "f41beaf0",
   "metadata": {},
   "outputs": [
    {
     "name": "stdout",
     "output_type": "stream",
     "text": [
      "#g98B)\n"
     ]
    }
   ],
   "source": [
    "#Hard Level - Order of characters randomised:\n",
    "#e.g. 4 letter, 2 symbol, 2 number = g^2jk8&P\n",
    "\n",
    "password =\"\"\n",
    "for letter in range(1,nr_letters+1): #1 less then nr_letters\n",
    "    #password += letters[random.randint(0,len(letters)-1)]\n",
    "    password += random.choice(letters) # generates one random element from letters\n",
    " \n",
    "for symbol in range(0,nr_symbols):\n",
    "    password += symbols[random.randint(0,len(symbols)-1)]\n",
    "\n",
    "for number in range(0,nr_numbers):\n",
    "    password += numbers[random.randint(0,len(numbers)-1)]\n",
    "    \n",
    "new_password = list(password)\n",
    "random.shuffle(new_password)\n",
    "password = ''.join(new_password)\n",
    "print(password)"
   ]
  },
  {
   "cell_type": "code",
   "execution_count": 98,
   "id": "142a26d7",
   "metadata": {},
   "outputs": [
    {
     "name": "stdout",
     "output_type": "stream",
     "text": [
      "h$(45a\n"
     ]
    }
   ],
   "source": [
    "#Hard Level - Order of characters randomised:\n",
    "#e.g. 4 letter, 2 symbol, 2 number = g^2jk8&P\n",
    "\n",
    "password_list = []\n",
    "\n",
    "for letter in range(1,nr_letters+1): #1 less then nr_letters\n",
    "    password_list.append(random.choice(letters))\n",
    "    #password_list += random.choice(letters) # generates one random element from letters\n",
    " \n",
    "for symbol in range(0,nr_symbols):\n",
    "    password_list += symbols[random.randint(0,len(symbols)-1)]\n",
    "\n",
    "for number in range(0,nr_numbers):\n",
    "    password_list += numbers[random.randint(0,len(numbers)-1)]\n",
    "    \n",
    "random.shuffle(password_list)\n",
    "#password = ''.join(password_list)\n",
    "password = \"\"\n",
    "for char in password_list:\n",
    "    password+=char\n",
    "    \n",
    "print(password)"
   ]
  }
 ],
 "metadata": {
  "kernelspec": {
   "display_name": "Python 3",
   "language": "python",
   "name": "python3"
  },
  "language_info": {
   "codemirror_mode": {
    "name": "ipython",
    "version": 3
   },
   "file_extension": ".py",
   "mimetype": "text/x-python",
   "name": "python",
   "nbconvert_exporter": "python",
   "pygments_lexer": "ipython3",
   "version": "3.8.8"
  }
 },
 "nbformat": 4,
 "nbformat_minor": 5
}
