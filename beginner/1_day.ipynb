{
 "cells": [
  {
   "cell_type": "markdown",
   "id": "8a985f8e",
   "metadata": {},
   "source": [
    "\"\" can't be used inside of \"\" just like this  "
   ]
  },
  {
   "cell_type": "code",
   "execution_count": 3,
   "id": "cfc59623",
   "metadata": {},
   "outputs": [
    {
     "name": "stdout",
     "output_type": "stream",
     "text": [
      "Day 1 - Python Print Function\n",
      "The function is declared like this:\n",
      "print('what to print')\n"
     ]
    }
   ],
   "source": [
    "\n",
    "print(\"Day 1 - Python Print Function\")\n",
    "print(\"The function is declared like this:\")\n",
    "print(\"print('what to print')\")"
   ]
  },
  {
   "cell_type": "code",
   "execution_count": null,
   "id": "515e43d6",
   "metadata": {},
   "outputs": [],
   "source": [
    "use \\n if you want to ave separate lines inside of one print statement"
   ]
  },
  {
   "cell_type": "code",
   "execution_count": 5,
   "id": "e39eac86",
   "metadata": {},
   "outputs": [
    {
     "name": "stdout",
     "output_type": "stream",
     "text": [
      "Hello world!\n",
      "Hello world!\n"
     ]
    }
   ],
   "source": [
    "print(\"Hello world!\\nHello world!\")"
   ]
  },
  {
   "cell_type": "markdown",
   "id": "98f0d1c3",
   "metadata": {},
   "source": [
    "single string Concatenation"
   ]
  },
  {
   "cell_type": "code",
   "execution_count": 8,
   "id": "305b0f65",
   "metadata": {},
   "outputs": [
    {
     "name": "stdout",
     "output_type": "stream",
     "text": [
      "Hello Angela\n"
     ]
    }
   ],
   "source": [
    "print(\"Hello\"+\" \"+ \"Angela\")"
   ]
  },
  {
   "cell_type": "markdown",
   "id": "b45b4d5f",
   "metadata": {},
   "source": [
    "IndentationError is when you insert spaces and tabs in your code\n",
    "\n",
    "SyntaxError you forget \" at the end\n",
    "\n",
    "Text editors help a lot (i.e. replit)\n"
   ]
  },
  {
   "cell_type": "markdown",
   "id": "b2cf1f9a",
   "metadata": {},
   "source": [
    "\"\" in '' OR '' in \"\""
   ]
  },
  {
   "cell_type": "code",
   "execution_count": 13,
   "id": "2858557f",
   "metadata": {},
   "outputs": [
    {
     "name": "stdout",
     "output_type": "stream",
     "text": [
      "Day 1 - String Manipulation\n",
      "String Concatenation is done with the \"+\" sign.\n",
      "e.g. print(\"Hello \" + \"world\")\n",
      "New lines can be created with a backslash and n.\n"
     ]
    }
   ],
   "source": [
    "#Fix the code below 👇\n",
    "print(\"Day 1 - String Manipulation\")\n",
    "print('String Concatenation is done with the \"+\" sign.')\n",
    "print('e.g. print(\"Hello \" + \"world\")')\n",
    "print(\"New lines can be created with a backslash and n.\")"
   ]
  },
  {
   "cell_type": "markdown",
   "id": "0cdada0b",
   "metadata": {},
   "source": [
    "The SyntaxError: unexpected EOF while parsing means that the end of your source code was reached before all code blocks were completed.\n",
    "This can simply also mean you are missing or have too many parentheses.\n"
   ]
  },
  {
   "cell_type": "markdown",
   "id": "53fc3639",
   "metadata": {},
   "source": [
    "Download *Thonny* to see code step by step"
   ]
  },
  {
   "cell_type": "code",
   "execution_count": 17,
   "id": "4d413c47",
   "metadata": {},
   "outputs": [
    {
     "name": "stdout",
     "output_type": "stream",
     "text": [
      "Whats is your name?DAria\n",
      "Hello DAria\n"
     ]
    }
   ],
   "source": [
    "print(\"Hello \"+input(\"Whats is your name?\"))"
   ]
  },
  {
   "cell_type": "code",
   "execution_count": 18,
   "id": "77838154",
   "metadata": {},
   "outputs": [
    {
     "name": "stdout",
     "output_type": "stream",
     "text": [
      "What is your name?Daria\n",
      "5\n"
     ]
    }
   ],
   "source": [
    "# len - function that calculates the length of a string\n",
    "s =input(\"What is your name?\")\n",
    "print(len(s))"
   ]
  },
  {
   "cell_type": "code",
   "execution_count": 19,
   "id": "8e97bf3d",
   "metadata": {},
   "outputs": [
    {
     "name": "stdout",
     "output_type": "stream",
     "text": [
      "What is your name?DAria\n",
      "5\n"
     ]
    }
   ],
   "source": [
    "print(len(input(\"What is your name?\")))"
   ]
  },
  {
   "cell_type": "code",
   "execution_count": 20,
   "id": "8668c4c7",
   "metadata": {},
   "outputs": [
    {
     "name": "stdout",
     "output_type": "stream",
     "text": [
      "a: 3\n",
      "b: 5\n",
      "a: 5\n",
      "b: 3\n"
     ]
    }
   ],
   "source": [
    "# 🚨 Don't change the code below 👇\n",
    "a = input(\"a: \")\n",
    "b = input(\"b: \")\n",
    "# 🚨 Don't change the code above 👆\n",
    "\n",
    "####################################\n",
    "#Write your code below this line 👇\n",
    "c = a\n",
    "a = b\n",
    "b = c\n",
    "\n",
    "\n",
    "#Write your code above this line 👆\n",
    "####################################\n",
    "\n",
    "# 🚨 Don't change the code below 👇\n",
    "print(\"a: \" + a)\n",
    "print(\"b: \" + b)\n"
   ]
  },
  {
   "cell_type": "markdown",
   "id": "10c8ecd5",
   "metadata": {},
   "source": [
    "name is one single unit, you can use underscore and numbers (not at the beginning) not use functions as names. Case Sensitive"
   ]
  },
  {
   "cell_type": "markdown",
   "id": "65431a77",
   "metadata": {},
   "source": [
    "NameError - misspelled names"
   ]
  },
  {
   "cell_type": "markdown",
   "id": "352e4920",
   "metadata": {},
   "source": [
    "# Band Name Generator"
   ]
  },
  {
   "cell_type": "code",
   "execution_count": null,
   "id": "2f6da0e8",
   "metadata": {},
   "outputs": [
    {
     "name": "stdout",
     "output_type": "stream",
     "text": [
      "Welcome to the Band Name Generator\n"
     ]
    }
   ],
   "source": [
    "#1. Create a greeting for your program.\n",
    "print(\"Welcome to the Band Name Generator\")\n",
    "#2. Ask the user for the city that they grew up in.\n",
    "city = input(\"What's the name of the city you grew up in?\\n\")\n",
    "#3. Ask the user for the name of a pet.\n",
    "pet = input(\"What's your pet's name?\\n\")\n",
    "#4. Combine the name of their city and pet and show them their band name.\n",
    "print(\"Your band name could be \" + city + \" \" + pet)\n",
    "#5. Make sure the input cursor shows on a new line, see the example at:\n",
    "#   https://replit.com/@appbrewery/band-name-generator-end"
   ]
  },
  {
   "cell_type": "code",
   "execution_count": null,
   "id": "081f6a4c",
   "metadata": {},
   "outputs": [],
   "source": []
  }
 ],
 "metadata": {
  "kernelspec": {
   "display_name": "Python 3",
   "language": "python",
   "name": "python3"
  },
  "language_info": {
   "codemirror_mode": {
    "name": "ipython",
    "version": 3
   },
   "file_extension": ".py",
   "mimetype": "text/x-python",
   "name": "python",
   "nbconvert_exporter": "python",
   "pygments_lexer": "ipython3",
   "version": "3.8.8"
  }
 },
 "nbformat": 4,
 "nbformat_minor": 5
}
