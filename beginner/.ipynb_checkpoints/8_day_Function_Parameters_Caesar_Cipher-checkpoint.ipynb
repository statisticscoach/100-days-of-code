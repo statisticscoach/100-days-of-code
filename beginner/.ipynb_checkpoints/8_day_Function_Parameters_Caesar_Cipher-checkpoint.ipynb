{
 "cells": [
  {
   "cell_type": "code",
   "execution_count": 3,
   "id": "7562299a",
   "metadata": {},
   "outputs": [
    {
     "name": "stdout",
     "output_type": "stream",
     "text": [
      "1\n",
      "2\n",
      "3\n"
     ]
    }
   ],
   "source": [
    "# Review: \n",
    "# Create a function called greet(). \n",
    "# Write 3 print statements inside the function.\n",
    "# Call the greet() function and run your code.\n",
    "def greet():\n",
    "    print(\"Hello\")\n",
    "    print(\"How do you do?\")s\n",
    "    print(\"Isn't the weather nice today\")\n",
    "    \n",
    "greet()"
   ]
  },
  {
   "cell_type": "code",
   "execution_count": 6,
   "id": "eebc5002",
   "metadata": {},
   "outputs": [
    {
     "name": "stdout",
     "output_type": "stream",
     "text": [
      "Hello Daria\n",
      "How do you do Daria?\n"
     ]
    }
   ],
   "source": [
    "def greet_with_name(name):\n",
    "    print(f\"Hello {name}\")\n",
    "    print(f\"How do you do {name}?\")\n",
    "\n",
    "    \n",
    "greet_with_name(\"Daria\")"
   ]
  },
  {
   "cell_type": "markdown",
   "id": "d733b49c",
   "metadata": {},
   "source": [
    "**name** (the name of the variable being passed) = parameter\n",
    "\n",
    "**Daria** = Argument, so the actual value"
   ]
  },
  {
   "cell_type": "code",
   "execution_count": 11,
   "id": "64ae389e",
   "metadata": {},
   "outputs": [
    {
     "name": "stdout",
     "output_type": "stream",
     "text": [
      "Hello Daria\n",
      "Isn't the weather nice today in Munich\n"
     ]
    }
   ],
   "source": [
    "def greet_with(name,location):\n",
    "    print(f\"Hello {name}\")\n",
    "    print(f\"Isn't the weather nice today in {location}\")\n",
    "\n",
    "    \n",
    "greet_with(\"Daria\",\"Munich\")"
   ]
  },
  {
   "cell_type": "code",
   "execution_count": 12,
   "id": "30fe27d6",
   "metadata": {},
   "outputs": [
    {
     "name": "stdout",
     "output_type": "stream",
     "text": [
      "Hello Daria\n",
      "Isn't the weather nice today in Munich\n"
     ]
    }
   ],
   "source": [
    "greet_with(location = \"Munich\",name =\"Daria\",)"
   ]
  },
  {
   "cell_type": "code",
   "execution_count": 16,
   "id": "95454ee4",
   "metadata": {},
   "outputs": [],
   "source": [
    "#Write your code below this line 👇\n",
    "def prime_checker(number):\n",
    "\n",
    "    if number == 1:\n",
    "        print(\"It's not a prime number.\")\n",
    "    elif number == 2:\n",
    "        print(\"It's a prime number.\")\n",
    "    \n",
    "    not_prime = False \n",
    "\n",
    "    for i in range(2,number):\n",
    "        if number % i == 0 and not_prime == False:\n",
    "            print(\"It's not a prime number.\")\n",
    "            not_prime = True            \n",
    "\n",
    "    if not_prime == False and number not in [1,2]:\n",
    "        print(\"It's a prime number.\")"
   ]
  },
  {
   "cell_type": "code",
   "execution_count": 18,
   "id": "22378742",
   "metadata": {},
   "outputs": [],
   "source": [
    "#Write your code below this line 👇\n",
    "def prime_checker(number):\n",
    "\n",
    "    is_prime = True \n",
    "\n",
    "    for i in range(2,number):\n",
    "        if number % i == 0:\n",
    "            is_prime = False \n",
    "                        \n",
    "    if is_prime:\n",
    "        print(\"It's a prime number.\")\n",
    "    else:\n",
    "        print(\"It's not prime number.\")"
   ]
  },
  {
   "cell_type": "code",
   "execution_count": 23,
   "id": "ff85a3b9",
   "metadata": {},
   "outputs": [
    {
     "name": "stdout",
     "output_type": "stream",
     "text": [
      "It's a prime number.\n"
     ]
    }
   ],
   "source": [
    "prime_checker(2)"
   ]
  },
  {
   "cell_type": "code",
   "execution_count": 24,
   "id": "17231b85",
   "metadata": {},
   "outputs": [
    {
     "name": "stdout",
     "output_type": "stream",
     "text": [
      "Type 'encode' to encrypt, type 'decode' to decrypt:\n",
      "encode\n",
      "Type your message:\n",
      "qw\n",
      "Type the shift number:\n",
      "2\n"
     ]
    }
   ],
   "source": [
    "alphabet = ['a', 'b', 'c', 'd', 'e', 'f', 'g', 'h', 'i', 'j', 'k', 'l', 'm', 'n', 'o', 'p', 'q', 'r', 's', 't', 'u', 'v', 'w', 'x', 'y', 'z']\n",
    "\n",
    "direction = input(\"Type 'encode' to encrypt, type 'decode' to decrypt:\\n\")\n"
   ]
  },
  {
   "cell_type": "code",
   "execution_count": 59,
   "id": "8e5dfe1d",
   "metadata": {},
   "outputs": [
    {
     "name": "stdout",
     "output_type": "stream",
     "text": [
      "Type your message:\n",
      "civilization\n",
      "Type the shift number:\n",
      "5\n",
      "hnanqnefynts\n"
     ]
    }
   ],
   "source": [
    "#TODO-1: Create a function called 'encrypt' that takes the 'text' and 'shift' as inputs.  \n",
    "def encrypt(text,shift):\n",
    "    new_text = list(text)\n",
    "    test_text = list(text)\n",
    "    for i in range(len(text)):\n",
    "        for j in range(len(alphabet)):\n",
    "            if test_text[i] == alphabet[j]:\n",
    "                #print(str(i) +\"+\"+str(j))\n",
    "                new_text[i] = alphabet[(j+shift) % len(alphabet)]\n",
    "    \n",
    "    print(str(''.join(new_text)))\n",
    "            \n",
    "#TODO-2: Inside the 'encrypt' function, shift each letter of the 'text' forwards in the alphabet \n",
    "#by the shift amount and print the encrypted text.    \n",
    "\n",
    "#e.g.      #plain_text = \"hello\"     #shift = 5     #cipher_text = \"mjqqt\"  \n",
    "\n",
    "#print output: \"The encoded text is mjqqt\"    \n",
    "\n",
    "##HINT: How do you get the index of an item in a list:\n",
    "#https://stackoverflow.com/questions/176918/finding-the-index-of-an-item-in-a-list    \n",
    "\n",
    "##🐛Bug alert: What happens if you try to encode the word 'civilization'?🐛  \n",
    "\n",
    "\n"
   ]
  },
  {
   "cell_type": "code",
   "execution_count": 60,
   "id": "ada288b1",
   "metadata": {},
   "outputs": [
    {
     "name": "stdout",
     "output_type": "stream",
     "text": [
      "Type your message:\n",
      "zulu\n",
      "Type the shift number:\n",
      "5\n",
      "ezqz\n"
     ]
    }
   ],
   "source": [
    "#TODO-3: Call the encrypt function and pass in the user inputs. \n",
    "#You should be able to test the code and encrypt a message. \n",
    "text = input(\"Type your message:\\n\").lower()\n",
    "shift = int(input(\"Type the shift number:\\n\"))\n",
    "\n",
    "encrypt(text,shift)"
   ]
  },
  {
   "cell_type": "code",
   "execution_count": 67,
   "id": "33f39b77",
   "metadata": {},
   "outputs": [
    {
     "name": "stdout",
     "output_type": "stream",
     "text": [
      "Type 'encode' to encrypt, type 'decode' to decrypt:\n",
      "decode\n",
      "Type your message:\n",
      "mjqqt\n",
      "Type the shift number:\n",
      "5\n",
      "The encoded text is hello\n"
     ]
    }
   ],
   "source": [
    "alphabet = ['a', 'b', 'c', 'd', 'e', 'f', 'g', 'h', 'i', 'j', 'k', 'l', 'm', 'n', 'o', 'p', 'q', 'r', 's', 't', 'u', 'v', 'w', 'x', 'y', 'z', 'a', 'b', 'c', 'd', 'e', 'f', 'g', 'h', 'i', 'j', 'k', 'l', 'm', 'n', 'o', 'p', 'q', 'r', 's', 't', 'u', 'v', 'w', 'x', 'y', 'z']\n",
    "\n",
    "direction = input(\"Type 'encode' to encrypt, type 'decode' to decrypt:\\n\")\n",
    "text = input(\"Type your message:\\n\").lower()\n",
    "shift = int(input(\"Type the shift number:\\n\"))\n",
    "\n",
    "def encrypt(plain_text, shift_amount):\n",
    "  cipher_text = \"\"\n",
    "  for letter in plain_text:\n",
    "    position = alphabet.index(letter)\n",
    "    new_position = (position + shift_amount) % len(alphabet)\n",
    "    cipher_text += alphabet[new_position]\n",
    "  print(f\"The encoded text is {cipher_text}\")\n",
    "\n",
    "#TODO-1: Create a different function called 'decrypt' that takes the 'text' and 'shift' as inputs.\n",
    "\n",
    "def decrypt(plain_text=text, shift_amount=shift):\n",
    "  plain_text = \"\"\n",
    "  for letter in plain_text:\n",
    "    position = alphabet.index(letter)\n",
    "    new_position = (position - shift_amount) % len(alphabet)\n",
    "    plain_text += alphabet[new_position]\n",
    "  print(f\"The decoded text is {plain_text}\")\n",
    "\n",
    "\n",
    "  #TODO-2: Inside the 'decrypt' function, shift each letter of the 'text' *backwards* in the alphabet by the shift amount and print the decrypted text.  \n",
    "  #e.g. \n",
    "  #cipher_text = \"mjqqt\"\n",
    "  #shift = 5\n",
    "  #plain_text = \"hello\"\n",
    "  #print output: \"The decoded text is hello\"\n",
    "\n",
    "\n",
    "#TODO-3: Check if the user wanted to encrypt or decrypt the message by checking the 'direction' variable.\n",
    "#Then call the correct function based on that 'drection' variable.\n",
    "#You should be able to test the code to encrypt *AND* decrypt a message.\n",
    "if direction == \"encode\":\n",
    "    encrypt(plain_text=text, shift_amount=shift)\n",
    "elif direction == \"decode\":\n",
    "    decrypt(plain_text=text, shift_amount=shift)\n",
    "else:\n",
    "    print(\"ERROR\")"
   ]
  },
  {
   "cell_type": "code",
   "execution_count": 76,
   "id": "c1e308fa",
   "metadata": {},
   "outputs": [
    {
     "name": "stdout",
     "output_type": "stream",
     "text": [
      "Type 'encode' to encrypt, type 'decode' to decrypt:\n",
      "decode\n",
      "Type your message:\n",
      "mjqqt\n",
      "Type the shift number:\n",
      "5\n",
      "The decoded text is hello\n"
     ]
    }
   ],
   "source": [
    "direction = input(\"Type 'encode' to encrypt, type 'decode' to decrypt:\\n\")\n",
    "text = input(\"Type your message:\\n\").lower()\n",
    "shift = int(input(\"Type the shift number:\\n\"))\n",
    "\n",
    "#TODO-2: Call the caesar() function, passing over the 'text', 'shift' and 'direction' values.\n",
    "def caesar(start_text,shift_amount,cipher_direction):\n",
    "    new_text =\"\"\n",
    "    if cipher_direction == \"decode\":\n",
    "        shift_amount *=-1\n",
    "    for letter in start_text:\n",
    "        position = alphabet.index(letter)\n",
    "        new_position = (position + shift_amount) % len(alphabet)\n",
    "        new_text += alphabet[new_position]\n",
    "    print(f\"The {direction}d text is {new_text}\")\n",
    "\n",
    "caesar(start_text=text,shift_amount=shift,cipher_direction=direction)"
   ]
  }
 ],
 "metadata": {
  "kernelspec": {
   "display_name": "Python 3",
   "language": "python",
   "name": "python3"
  },
  "language_info": {
   "codemirror_mode": {
    "name": "ipython",
    "version": 3
   },
   "file_extension": ".py",
   "mimetype": "text/x-python",
   "name": "python",
   "nbconvert_exporter": "python",
   "pygments_lexer": "ipython3",
   "version": "3.8.8"
  }
 },
 "nbformat": 4,
 "nbformat_minor": 5
}
