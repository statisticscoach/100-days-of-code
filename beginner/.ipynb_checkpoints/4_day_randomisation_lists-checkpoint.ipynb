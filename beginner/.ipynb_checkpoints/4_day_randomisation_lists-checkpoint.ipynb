{
 "cells": [
  {
   "cell_type": "code",
   "execution_count": 1,
   "id": "45600246",
   "metadata": {},
   "outputs": [],
   "source": [
    "import random"
   ]
  },
  {
   "cell_type": "markdown",
   "id": "b151c409",
   "metadata": {},
   "source": [
    "https://www.askpython.com/python-modules/python-random-module-generate-random-numbers-sequences"
   ]
  },
  {
   "cell_type": "code",
   "execution_count": 3,
   "id": "eec152ee",
   "metadata": {},
   "outputs": [
    {
     "name": "stdout",
     "output_type": "stream",
     "text": [
      "4\n"
     ]
    }
   ],
   "source": [
    "random_integer = random.randint(1,10)\n",
    "print(random_integer)"
   ]
  },
  {
   "cell_type": "code",
   "execution_count": 5,
   "id": "aff1b20d",
   "metadata": {},
   "outputs": [],
   "source": [
    "import my_module"
   ]
  },
  {
   "cell_type": "code",
   "execution_count": 6,
   "id": "b7fe2143",
   "metadata": {},
   "outputs": [
    {
     "name": "stdout",
     "output_type": "stream",
     "text": [
      "3.14159246\n"
     ]
    }
   ],
   "source": [
    "print(my_module.pi)"
   ]
  },
  {
   "cell_type": "code",
   "execution_count": 7,
   "id": "f45e122e",
   "metadata": {},
   "outputs": [],
   "source": [
    "# [0.0 1.0)\n",
    "random_float = random.random()"
   ]
  },
  {
   "cell_type": "code",
   "execution_count": 8,
   "id": "3bdcdd8d",
   "metadata": {},
   "outputs": [
    {
     "name": "stdout",
     "output_type": "stream",
     "text": [
      "0.8904286957295754\n"
     ]
    }
   ],
   "source": [
    "print(random_float)"
   ]
  },
  {
   "cell_type": "code",
   "execution_count": 10,
   "id": "6a296809",
   "metadata": {},
   "outputs": [
    {
     "data": {
      "text/plain": [
       "4.452143478647877"
      ]
     },
     "execution_count": 10,
     "metadata": {},
     "output_type": "execute_result"
    }
   ],
   "source": [
    "random_float*5"
   ]
  },
  {
   "cell_type": "code",
   "execution_count": 14,
   "id": "764097cf",
   "metadata": {},
   "outputs": [
    {
     "name": "stdout",
     "output_type": "stream",
     "text": [
      "Your love score is 72.\n"
     ]
    }
   ],
   "source": [
    "love_score = random.randint(1,100)\n",
    "print(f\"Your love score is {love_score}.\")"
   ]
  },
  {
   "cell_type": "markdown",
   "id": "f9fc4f1d",
   "metadata": {},
   "source": [
    "# Heads or Tails"
   ]
  },
  {
   "cell_type": "code",
   "execution_count": 16,
   "id": "cb0449c2",
   "metadata": {},
   "outputs": [
    {
     "name": "stdout",
     "output_type": "stream",
     "text": [
      "Create a seed number: 23\n",
      "Heads\n"
     ]
    }
   ],
   "source": [
    "#Remember to use the random module\n",
    "#Hint: Remember to import the random module here at the top of the file. 🎲\n",
    "import random\t \n",
    "# 🚨 Don't change the code below 👇\n",
    "test_seed = int(input(\"Create a seed number: \"))\n",
    "random.seed(test_seed)\n",
    " # 🚨 Don't change the code above 👆 It's only for testing your code.\n",
    "\t \n",
    "#Write the rest of your code below this line 👇\n",
    "x = random.randint(0,1)\n",
    "if x == 0:\n",
    "    print(\"Tails\")\n",
    "else:\n",
    "    print(\"Heads\")"
   ]
  },
  {
   "cell_type": "markdown",
   "id": "0d0d83bb",
   "metadata": {},
   "source": [
    "# Lists"
   ]
  },
  {
   "cell_type": "code",
   "execution_count": 18,
   "id": "fe343a8c",
   "metadata": {},
   "outputs": [
    {
     "name": "stdout",
     "output_type": "stream",
     "text": [
      "['Delaware', 'Pennsylvania', 'New Jersey', 'Georgia', 'Connecticut', 'Massachusetts', 'Maryland', 'South Carolina', 'New Hampshire', 'Virginia', 'New York', 'North Carolina', 'Rhode Island', 'Vermont', 'Kentucky', 'Tennessee', 'Ohio', 'Louisiana', 'Indiana', 'Mississippi', 'Illinois', 'Alabama', 'Maine', 'Missouri', 'Arkansas', 'Michigan', 'Florida', 'Texas', 'Iowa', 'Wisconsin', 'California', 'Minnesota', 'Oregon', 'Kansas', 'West Virginia', 'Nevada', 'Nebraska', 'Colorado', 'North Dakota', 'South Dakota', 'Montana', 'Washington', 'Idaho', 'Wyoming', 'Utah', 'Oklahoma', 'New Mexico', 'Arizona', 'Alaska', 'Hawaii']\n"
     ]
    }
   ],
   "source": [
    "states_of_america = [\"Delaware\", \"Pennsylvania\", \"New Jersey\", \"Georgia\", \"Connecticut\", \"Massachusetts\", \"Maryland\", \"South Carolina\", \"New Hampshire\", \"Virginia\", \"New York\", \"North Carolina\", \"Rhode Island\", \"Vermont\", \"Kentucky\", \"Tennessee\", \"Ohio\", \"Louisiana\", \"Indiana\", \"Mississippi\", \"Illinois\", \"Alabama\", \"Maine\", \"Missouri\", \"Arkansas\", \"Michigan\", \"Florida\", \"Texas\", \"Iowa\", \"Wisconsin\", \"California\", \"Minnesota\", \"Oregon\", \"Kansas\", \"West Virginia\", \"Nevada\", \"Nebraska\", \"Colorado\", \"North Dakota\", \"South Dakota\", \"Montana\", \"Washington\", \"Idaho\", \"Wyoming\", \"Utah\", \"Oklahoma\", \"New Mexico\", \"Arizona\", \"Alaska\", \"Hawaii\"]\n",
    "\n",
    "print(states_of_america)\n"
   ]
  },
  {
   "cell_type": "code",
   "execution_count": 20,
   "id": "d1185eae",
   "metadata": {},
   "outputs": [
    {
     "data": {
      "text/plain": [
       "'Pennsylvania'"
      ]
     },
     "execution_count": 20,
     "metadata": {},
     "output_type": "execute_result"
    }
   ],
   "source": [
    "states_of_america[1]"
   ]
  },
  {
   "cell_type": "code",
   "execution_count": 21,
   "id": "d08a80ea",
   "metadata": {},
   "outputs": [
    {
     "data": {
      "text/plain": [
       "'Hawaii'"
      ]
     },
     "execution_count": 21,
     "metadata": {},
     "output_type": "execute_result"
    }
   ],
   "source": [
    "#last\n",
    "states_of_america[-1]"
   ]
  },
  {
   "cell_type": "code",
   "execution_count": 22,
   "id": "b04e45eb",
   "metadata": {},
   "outputs": [
    {
     "data": {
      "text/plain": [
       "'Pennsilvania'"
      ]
     },
     "execution_count": 22,
     "metadata": {},
     "output_type": "execute_result"
    }
   ],
   "source": [
    "states_of_america[1] = 'Pennsilvania'\n",
    "states_of_america[1]"
   ]
  },
  {
   "cell_type": "markdown",
   "id": "aff72d59",
   "metadata": {},
   "source": [
    "# add single element to the end of the list\n",
    "https://docs.python.org/3/tutorial/datastructures.html\n",
    "just read (documentation) what is possible in every new topic"
   ]
  },
  {
   "cell_type": "code",
   "execution_count": 34,
   "id": "24a52984",
   "metadata": {},
   "outputs": [
    {
     "data": {
      "text/plain": [
       "'Daria'"
      ]
     },
     "execution_count": 34,
     "metadata": {},
     "output_type": "execute_result"
    }
   ],
   "source": [
    "states_of_america.append(\"Daria\")\n",
    "states_of_america[-1]"
   ]
  },
  {
   "cell_type": "code",
   "execution_count": 35,
   "id": "58887df4",
   "metadata": {},
   "outputs": [],
   "source": [
    "states_of_america.extend([\"Daria\",\"Chris Evans\"])\n",
    "#adds a list"
   ]
  },
  {
   "cell_type": "markdown",
   "id": "c019427b",
   "metadata": {},
   "source": [
    "# random person pays"
   ]
  },
  {
   "cell_type": "code",
   "execution_count": 36,
   "id": "7465218c",
   "metadata": {},
   "outputs": [
    {
     "name": "stdout",
     "output_type": "stream",
     "text": [
      "Create a seed number: 23\n",
      "Give me everybody's names, separated by a comma. q, w, e, r, t, y\n",
      "e is going to buy the meal today!\n"
     ]
    }
   ],
   "source": [
    "\n",
    "import random\n",
    "# 🚨 Don't change the code below 👇\n",
    "test_seed = int(input(\"Create a seed number: \"))\n",
    "random.seed(test_seed)\n",
    "\n",
    "# Split string method\n",
    "names_string = input(\"Give me everybody's names, separated by a comma. \")\n",
    "#split a string on some divider \n",
    "names = names_string.split(\", \")\n",
    "# 🚨 Don't change the code above 👆\n",
    "\n",
    "#Write your code below this line 👇\n",
    "random_number = random.randint(0,len(names)-1)\n",
    "\n",
    "print(f\"{names[random_number]} is going to buy the meal today!\")"
   ]
  },
  {
   "cell_type": "code",
   "execution_count": 37,
   "id": "e9374956",
   "metadata": {},
   "outputs": [
    {
     "data": {
      "text/plain": [
       "'Spinach'"
      ]
     },
     "execution_count": 37,
     "metadata": {},
     "output_type": "execute_result"
    }
   ],
   "source": [
    "dirty_dozen = [\"Strawberries\", \"Spinach\", \"Kale\", \"Nectarines\", \"Apples\", \"Grapes\", \"Peaches\", \"Cherries\", \"Pears\", \"Tomatoes\", \"Celery\", \"Potatoes\"]\n",
    "random.choice(dirty_dozen)"
   ]
  },
  {
   "cell_type": "markdown",
   "id": "00d8fa29",
   "metadata": {},
   "source": [
    "https://www.askpython.com/python/string/convert-string-to-list-in-python\n",
    "\n",
    "https://www.askpython.com/python-modules/python-random-module-generate-random-numbers-sequences\n",
    "\n",
    "https://www.delish.com/food-news/a26872638/dirty-dozen-foods-list-2019/\n"
   ]
  },
  {
   "cell_type": "code",
   "execution_count": 38,
   "id": "12e621ea",
   "metadata": {},
   "outputs": [
    {
     "name": "stdout",
     "output_type": "stream",
     "text": [
      "[['Strawberries', 'Nectarines', 'Apples', 'Grapes', 'Peaches', 'Cherries', 'Pears'], ['Spinach', 'Kale', 'Tomatoes', 'Celery', 'Potatoes']]\n"
     ]
    }
   ],
   "source": [
    "#nested list\n",
    "fruits = [\"Strawberries\",  \"Nectarines\", \"Apples\", \"Grapes\", \"Peaches\", \"Cherries\", \"Pears\"]\n",
    "vegetables = [ \"Spinach\", \"Kale\", \"Tomatoes\", \"Celery\", \"Potatoes\"]\n",
    "dirty_dozen =[fruits,vegetables]\n",
    "print(dirty_dozen)"
   ]
  },
  {
   "cell_type": "code",
   "execution_count": 55,
   "id": "a521fb21",
   "metadata": {},
   "outputs": [
    {
     "name": "stdout",
     "output_type": "stream",
     "text": [
      "['⬜️', '⬜️', '⬜️']\n",
      "['⬜️', '⬜️', '⬜️']\n",
      "['⬜️', '⬜️', '⬜️']\n",
      "Where do you want to put the treasure? 23\n",
      "['⬜️', '⬜️', '⬜️']\n",
      "['⬜️', '⬜️', '⬜️']\n",
      "['⬜️', 'X', '⬜️']\n"
     ]
    }
   ],
   "source": [
    "# 🚨 Don't change the code below 👇\n",
    "row1 = [\"⬜️\",\"⬜️\",\"⬜️\"]\n",
    "row2 = [\"⬜️\",\"⬜️\",\"⬜️\"]\n",
    "row3 = [\"⬜️\",\"⬜️\",\"⬜️\"]\n",
    "map = [row1, row2, row3]\n",
    "print(f\"{row1}\\n{row2}\\n{row3}\")\n",
    "position = input(\"Where do you want to put the treasure? \")\n",
    "# 🚨 Don't change the code above 👆\n",
    "\n",
    "#Write your code below this row 👇\n",
    "#column row\n",
    "\n",
    "map[int(position[1])-1][int(position[0])-1] = \"X\"\n",
    "\n",
    "#Write your code above this row 👆\n",
    "\n",
    "# 🚨 Don't change the code below 👇\n",
    "print(f\"{row1}\\n{row2}\\n{row3}\")"
   ]
  },
  {
   "cell_type": "code",
   "execution_count": 50,
   "id": "5f995bb3",
   "metadata": {},
   "outputs": [
    {
     "data": {
      "text/plain": [
       "'⬜️'"
      ]
     },
     "execution_count": 50,
     "metadata": {},
     "output_type": "execute_result"
    }
   ],
   "source": [
    "int(position)[0][1]\n",
    "# raw, column"
   ]
  },
  {
   "cell_type": "markdown",
   "id": "bc1d81c8",
   "metadata": {},
   "source": [
    "# Rock, paper, scissors"
   ]
  },
  {
   "cell_type": "code",
   "execution_count": 68,
   "id": "ef70128e",
   "metadata": {},
   "outputs": [],
   "source": [
    "import random\n",
    "\n",
    "rock = '''\n",
    "    _______\n",
    "---'   ____)\n",
    "      (_____)\n",
    "      (_____)\n",
    "      (____)\n",
    "---.__(___)\n",
    "'''\n",
    "\n",
    "paper = '''\n",
    "    _______\n",
    "---'   ____)____\n",
    "          ______)\n",
    "          _______)\n",
    "         _______)\n",
    "---.__________)\n",
    "'''\n",
    "\n",
    "scissors = '''\n",
    "    _______\n",
    "---'   ____)____\n",
    "          ______)\n",
    "       __________)\n",
    "      (____)\n",
    "---.__(___)\n",
    "'''"
   ]
  },
  {
   "cell_type": "code",
   "execution_count": 69,
   "id": "ec8656e2",
   "metadata": {},
   "outputs": [
    {
     "name": "stdout",
     "output_type": "stream",
     "text": [
      "\n",
      "    _______\n",
      "---'   ____)____\n",
      "          ______)\n",
      "       __________)\n",
      "      (____)\n",
      "---.__(___)\n",
      "\n"
     ]
    }
   ],
   "source": [
    "print(scissors)"
   ]
  },
  {
   "cell_type": "code",
   "execution_count": 79,
   "id": "7cf44f5f",
   "metadata": {},
   "outputs": [
    {
     "name": "stdout",
     "output_type": "stream",
     "text": [
      "What do you choose? Type 0 for Rock, 1 for Paper or 2 for Scissors.\n",
      "24\n",
      "You typed an invalid number, you lose!\n"
     ]
    }
   ],
   "source": [
    "game_images = [rock, paper, scissors]\n",
    "\n",
    "user_choice = int(input(\"What do you choose? Type 0 for Rock, 1 for Paper or 2 for Scissors.\\n\"))\n",
    "\n",
    "if user_choice >= 3 or user_choice < 0: \n",
    "    print(\"You typed an invalid number, you lose!\")\n",
    "else:\n",
    "    print(game_images[user_choice])     \n",
    "    \n",
    "    computer_choice = random.randint(0, 2)\n",
    "    print(\"Computer chose:\")\n",
    "    print(game_images[computer_choice])\n",
    "\n",
    "    if user_choice == 0 and computer_choice == 2:\n",
    "          print(\"You win!\")\n",
    "    elif computer_choice == 0 and user_choice == 2:\n",
    "          print(\"You lose\")\n",
    "    elif computer_choice > user_choice:\n",
    "          print(\"You lose\")\n",
    "    elif user_choice > computer_choice:\n",
    "          print(\"You win!\")\n",
    "    elif computer_choice == user_choice:\n",
    "          print(\"It's a draw\")\n",
    "\n",
    "    \n",
    "\n"
   ]
  },
  {
   "cell_type": "code",
   "execution_count": null,
   "id": "301e65aa",
   "metadata": {},
   "outputs": [],
   "source": []
  }
 ],
 "metadata": {
  "kernelspec": {
   "display_name": "Python 3",
   "language": "python",
   "name": "python3"
  },
  "language_info": {
   "codemirror_mode": {
    "name": "ipython",
    "version": 3
   },
   "file_extension": ".py",
   "mimetype": "text/x-python",
   "name": "python",
   "nbconvert_exporter": "python",
   "pygments_lexer": "ipython3",
   "version": "3.8.8"
  }
 },
 "nbformat": 4,
 "nbformat_minor": 5
}
