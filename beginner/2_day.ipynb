{
 "cells": [
  {
   "cell_type": "code",
   "execution_count": 1,
   "id": "1da32ee1",
   "metadata": {},
   "outputs": [
    {
     "ename": "TypeError",
     "evalue": "object of type 'int' has no len()",
     "output_type": "error",
     "traceback": [
      "\u001b[1;31m---------------------------------------------------------------------------\u001b[0m",
      "\u001b[1;31mTypeError\u001b[0m                                 Traceback (most recent call last)",
      "\u001b[1;32m<ipython-input-1-a95e54e61f62>\u001b[0m in \u001b[0;36m<module>\u001b[1;34m\u001b[0m\n\u001b[1;32m----> 1\u001b[1;33m \u001b[0mlen\u001b[0m\u001b[1;33m(\u001b[0m\u001b[1;36m123\u001b[0m\u001b[1;33m)\u001b[0m\u001b[1;33m\u001b[0m\u001b[1;33m\u001b[0m\u001b[0m\n\u001b[0m",
      "\u001b[1;31mTypeError\u001b[0m: object of type 'int' has no len()"
     ]
    }
   ],
   "source": [
    "len(123)"
   ]
  },
  {
   "cell_type": "markdown",
   "id": "97737cb2",
   "metadata": {},
   "source": [
    "TypeError: object of type 'int' has no len()"
   ]
  },
  {
   "cell_type": "code",
   "execution_count": 4,
   "id": "b49fbb53",
   "metadata": {},
   "outputs": [
    {
     "data": {
      "text/plain": [
       "'H'"
      ]
     },
     "execution_count": 4,
     "metadata": {},
     "output_type": "execute_result"
    }
   ],
   "source": [
    "#subscripting\n",
    "\"Hello\"[0]"
   ]
  },
  {
   "cell_type": "code",
   "execution_count": 3,
   "id": "fdcb4736",
   "metadata": {},
   "outputs": [
    {
     "name": "stdout",
     "output_type": "stream",
     "text": [
      "H\n"
     ]
    }
   ],
   "source": [
    "print(\"Hello\"[0])"
   ]
  },
  {
   "cell_type": "markdown",
   "id": "3e83ac9a",
   "metadata": {},
   "source": [
    "python start counting by zero"
   ]
  },
  {
   "cell_type": "code",
   "execution_count": 5,
   "id": "ae1c82bd",
   "metadata": {},
   "outputs": [
    {
     "name": "stdout",
     "output_type": "stream",
     "text": [
      "123345\n"
     ]
    }
   ],
   "source": [
    "print(\"123\"+\"345\")"
   ]
  },
  {
   "cell_type": "code",
   "execution_count": 6,
   "id": "4ac5921d",
   "metadata": {},
   "outputs": [
    {
     "name": "stdout",
     "output_type": "stream",
     "text": [
      "468\n"
     ]
    }
   ],
   "source": [
    "#integer\n",
    "print(123+345)"
   ]
  },
  {
   "cell_type": "code",
   "execution_count": 7,
   "id": "5e3e6314",
   "metadata": {},
   "outputs": [
    {
     "data": {
      "text/plain": [
       "123456789"
      ]
     },
     "execution_count": 7,
     "metadata": {},
     "output_type": "execute_result"
    }
   ],
   "source": [
    "#integers to visualise _ instead of. 123.456.789\n",
    "123_456_789"
   ]
  },
  {
   "cell_type": "code",
   "execution_count": 8,
   "id": "7bd317ab",
   "metadata": {},
   "outputs": [
    {
     "data": {
      "text/plain": [
       "3.14159"
      ]
     },
     "execution_count": 8,
     "metadata": {},
     "output_type": "execute_result"
    }
   ],
   "source": [
    "#float - floating point number\n",
    "3.14159"
   ]
  },
  {
   "cell_type": "code",
   "execution_count": 9,
   "id": "1b31f2c0",
   "metadata": {},
   "outputs": [
    {
     "data": {
      "text/plain": [
       "False"
      ]
     },
     "execution_count": 9,
     "metadata": {},
     "output_type": "execute_result"
    }
   ],
   "source": [
    "#boolean without \"\", capital letters\n",
    "True\n",
    "False"
   ]
  },
  {
   "cell_type": "code",
   "execution_count": 10,
   "id": "5ed5509d",
   "metadata": {},
   "outputs": [
    {
     "name": "stdout",
     "output_type": "stream",
     "text": [
      "yo\n"
     ]
    }
   ],
   "source": [
    "street_name = \"Abbey Road\"\n",
    "print(street_name[4] + street_name[7])"
   ]
  },
  {
   "cell_type": "code",
   "execution_count": 11,
   "id": "e9ddecb8",
   "metadata": {},
   "outputs": [
    {
     "ename": "TypeError",
     "evalue": "can only concatenate str (not \"int\") to str",
     "output_type": "error",
     "traceback": [
      "\u001b[1;31m---------------------------------------------------------------------------\u001b[0m",
      "\u001b[1;31mTypeError\u001b[0m                                 Traceback (most recent call last)",
      "\u001b[1;32m<ipython-input-11-21a3dc07aae7>\u001b[0m in \u001b[0;36m<module>\u001b[1;34m\u001b[0m\n\u001b[1;32m----> 1\u001b[1;33m \u001b[0mprint\u001b[0m\u001b[1;33m(\u001b[0m\u001b[1;34m\"you\"\u001b[0m\u001b[1;33m+\u001b[0m\u001b[1;36m4\u001b[0m\u001b[1;33m)\u001b[0m\u001b[1;33m\u001b[0m\u001b[1;33m\u001b[0m\u001b[0m\n\u001b[0m",
      "\u001b[1;31mTypeError\u001b[0m: can only concatenate str (not \"int\") to str"
     ]
    }
   ],
   "source": [
    "#can only concatenate str (not \"int\") to str\n",
    "print(\"you\"+4)"
   ]
  },
  {
   "cell_type": "code",
   "execution_count": 15,
   "id": "7c8dbafd",
   "metadata": {},
   "outputs": [
    {
     "name": "stdout",
     "output_type": "stream",
     "text": [
      "you 4\n"
     ]
    }
   ],
   "source": [
    "print(\"you \"+ str(4))"
   ]
  },
  {
   "cell_type": "code",
   "execution_count": 16,
   "id": "d889fe76",
   "metadata": {},
   "outputs": [
    {
     "data": {
      "text/plain": [
       "4.0"
      ]
     },
     "execution_count": 16,
     "metadata": {},
     "output_type": "execute_result"
    }
   ],
   "source": [
    "float(4)"
   ]
  },
  {
   "cell_type": "code",
   "execution_count": 17,
   "id": "352af8ef",
   "metadata": {},
   "outputs": [
    {
     "data": {
      "text/plain": [
       "int"
      ]
     },
     "execution_count": 17,
     "metadata": {},
     "output_type": "execute_result"
    }
   ],
   "source": [
    "type(4)"
   ]
  },
  {
   "cell_type": "code",
   "execution_count": 18,
   "id": "7c189868",
   "metadata": {},
   "outputs": [
    {
     "name": "stdout",
     "output_type": "stream",
     "text": [
      "Type a two digit number: 39\n",
      "12\n"
     ]
    }
   ],
   "source": [
    "# 🚨 Don't change the code below 👇\n",
    "two_digit_number = input(\"Type a two digit number: \")\n",
    "# 🚨 Don't change the code above 👆\n",
    "\n",
    "####################################\n",
    "#Write your code below this line 👇\n",
    "new_number = int(two_digit_number[0])+int(two_digit_number[1])\n",
    "print(str(new_number))"
   ]
  },
  {
   "cell_type": "markdown",
   "id": "39629e5f",
   "metadata": {},
   "source": [
    "input variable is a **string**"
   ]
  },
  {
   "cell_type": "markdown",
   "id": "cc749b3f",
   "metadata": {},
   "source": [
    "# **PEMDAS** order of math\n",
    "\n",
    "()\n",
    " \n",
    "**\n",
    " \n",
    "/ * equally important\n",
    "  \n",
    "minus /plus "
   ]
  },
  {
   "cell_type": "code",
   "execution_count": 19,
   "id": "75740c86",
   "metadata": {},
   "outputs": [
    {
     "data": {
      "text/plain": [
       "7.0"
      ]
     },
     "execution_count": 19,
     "metadata": {},
     "output_type": "execute_result"
    }
   ],
   "source": [
    "3*3+3/3-3"
   ]
  },
  {
   "cell_type": "code",
   "execution_count": 20,
   "id": "0d783f13",
   "metadata": {},
   "outputs": [
    {
     "data": {
      "text/plain": [
       "3.0"
      ]
     },
     "execution_count": 20,
     "metadata": {},
     "output_type": "execute_result"
    }
   ],
   "source": [
    "3*(3+3)/3-3"
   ]
  },
  {
   "cell_type": "markdown",
   "id": "ee95f097",
   "metadata": {},
   "source": [
    "# BMI calculator"
   ]
  },
  {
   "cell_type": "code",
   "execution_count": 22,
   "id": "7a25bb34",
   "metadata": {},
   "outputs": [
    {
     "name": "stdout",
     "output_type": "stream",
     "text": [
      "enter your height in m: 1.75\n",
      "enter your weight in kg: 65\n",
      "21\n"
     ]
    }
   ],
   "source": [
    "# 🚨 Don't change the code below 👇\n",
    "height = input(\"enter your height in m: \")\n",
    "weight = input(\"enter your weight in kg: \")\n",
    "# 🚨 Don't change the code above 👆\n",
    "\n",
    "#Write your code below this line 👇\n",
    "print(int(float(weight)/float(height)**2))"
   ]
  },
  {
   "cell_type": "code",
   "execution_count": 1,
   "id": "c3493092",
   "metadata": {},
   "outputs": [
    {
     "data": {
      "text/plain": [
       "2.67"
      ]
     },
     "execution_count": 1,
     "metadata": {},
     "output_type": "execute_result"
    }
   ],
   "source": [
    "round(8/3,2)"
   ]
  },
  {
   "cell_type": "code",
   "execution_count": 2,
   "id": "0aac5604",
   "metadata": {},
   "outputs": [
    {
     "data": {
      "text/plain": [
       "1.0"
      ]
     },
     "execution_count": 2,
     "metadata": {},
     "output_type": "execute_result"
    }
   ],
   "source": [
    "results=4/2\n",
    "results/=2\n",
    "results"
   ]
  },
  {
   "cell_type": "code",
   "execution_count": 5,
   "id": "52725690",
   "metadata": {},
   "outputs": [
    {
     "data": {
      "text/plain": [
       "1"
      ]
     },
     "execution_count": 5,
     "metadata": {},
     "output_type": "execute_result"
    }
   ],
   "source": [
    "score = 0\n",
    "score+=1\n",
    "score\n",
    "#*/+-"
   ]
  },
  {
   "cell_type": "code",
   "execution_count": 6,
   "id": "0f5fbafb",
   "metadata": {},
   "outputs": [],
   "source": [
    "score = 0\n",
    "height = 1.8\n",
    "isWinning = True\n"
   ]
  },
  {
   "cell_type": "markdown",
   "id": "b32c5cda",
   "metadata": {},
   "source": [
    "# f-string\n",
    "combine all data types to strings"
   ]
  },
  {
   "cell_type": "code",
   "execution_count": 9,
   "id": "e9b89096",
   "metadata": {},
   "outputs": [
    {
     "data": {
      "text/plain": [
       "'your score is 0, your height is 1.8, you are winning is True'"
      ]
     },
     "execution_count": 9,
     "metadata": {},
     "output_type": "execute_result"
    }
   ],
   "source": [
    "f\"your score is {score}, your height is {height}, you are winning is {isWinning}\""
   ]
  },
  {
   "cell_type": "markdown",
   "id": "7aa67891",
   "metadata": {},
   "source": [
    "# Tim Urban - Your Life in Weeks"
   ]
  },
  {
   "cell_type": "code",
   "execution_count": 10,
   "id": "25ff19cc",
   "metadata": {},
   "outputs": [
    {
     "name": "stdout",
     "output_type": "stream",
     "text": [
      "What is your current age?32\n",
      "You have 21170 days, 3016 weeks, and 696 months left.\n"
     ]
    }
   ],
   "source": [
    "# 🚨 Don't change the code below 👇\n",
    "age = input(\"What is your current age?\")\n",
    "# 🚨 Don't change the code above 👆\n",
    "\n",
    "#Write your code below this line 👇\n",
    "years = 90 - int(age)\n",
    "print(f\"You have {years*365} days, {years*52} weeks, and {years*12} months left.\")"
   ]
  },
  {
   "cell_type": "markdown",
   "id": "4c0f0631",
   "metadata": {},
   "source": [
    "# Tip calculator"
   ]
  },
  {
   "cell_type": "markdown",
   "id": "a6629dd5",
   "metadata": {},
   "source": [
    "https://docs.python.org/3/tutorial/floatingpoint.html"
   ]
  },
  {
   "cell_type": "code",
   "execution_count": 12,
   "id": "0380e8a3",
   "metadata": {},
   "outputs": [
    {
     "name": "stdout",
     "output_type": "stream",
     "text": [
      "Welcome to the tip calculator!\n",
      "What was the total bill? $100\n",
      "How much tip would you like to give? 10, 12, or 15? 10\n",
      "How many people to split the bill?5\n",
      "Each person should pay: $22.0\n"
     ]
    }
   ],
   "source": [
    "print(\"Welcome to the tip calculator!\")\n",
    "bill = float(input(\"What was the total bill? $\"))\n",
    "tip = int(input(\"How much tip would you like to give? 10, 12, or 15? \"))\n",
    "people = int(input(\"How many people to split the bill?\"))\n",
    "\n",
    "final_amount = round((bill*(1+tip/100))/5,2)\n",
    "\n",
    "print(f\"Each person should pay: ${final_amount}\")"
   ]
  },
  {
   "cell_type": "code",
   "execution_count": null,
   "id": "1ae729ed",
   "metadata": {},
   "outputs": [],
   "source": []
  }
 ],
 "metadata": {
  "kernelspec": {
   "display_name": "Python 3",
   "language": "python",
   "name": "python3"
  },
  "language_info": {
   "codemirror_mode": {
    "name": "ipython",
    "version": 3
   },
   "file_extension": ".py",
   "mimetype": "text/x-python",
   "name": "python",
   "nbconvert_exporter": "python",
   "pygments_lexer": "ipython3",
   "version": "3.8.8"
  }
 },
 "nbformat": 4,
 "nbformat_minor": 5
}
