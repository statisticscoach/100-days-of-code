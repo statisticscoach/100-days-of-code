{
 "cells": [
  {
   "cell_type": "markdown",
   "id": "ed6ab427",
   "metadata": {},
   "source": [
    "# Functions\n",
    "https://docs.python.org/3/library/functions.html"
   ]
  },
  {
   "cell_type": "code",
   "execution_count": 1,
   "id": "048b32f9",
   "metadata": {},
   "outputs": [],
   "source": [
    "def my_function():\n",
    "    print(\"Hello\")\n",
    "    print(\"Bye\")"
   ]
  },
  {
   "cell_type": "code",
   "execution_count": 4,
   "id": "6d5f838c",
   "metadata": {},
   "outputs": [
    {
     "name": "stdout",
     "output_type": "stream",
     "text": [
      "Hello\n",
      "Bye\n"
     ]
    }
   ],
   "source": [
    "my_function()"
   ]
  },
  {
   "cell_type": "markdown",
   "id": "b30ca609",
   "metadata": {},
   "source": [
    "# Reeborg's world\n",
    "https://reeborg.ca/reeborg.html"
   ]
  },
  {
   "cell_type": "code",
   "execution_count": 6,
   "id": "1d037086",
   "metadata": {},
   "outputs": [],
   "source": [
    "# def turn_around():\n",
    "#     turn_left()\n",
    "#     turn_left()\n",
    "    \n",
    "# def turn_right():\n",
    "#     turn_left()\n",
    "#     turn_left()\n",
    "#     turn_left()\n",
    "\n",
    "# turn_left()\n",
    "# move()\n",
    "# turn_right()\n",
    "# move()\n",
    "# turn_right()\n",
    "# move()\n",
    "# turn_right()\n",
    "# move()"
   ]
  },
  {
   "cell_type": "markdown",
   "id": "a05d631e",
   "metadata": {},
   "source": [
    "https://reeborg.ca/reeborg.html?lang=en&mode=python&menu=worlds%2Fmenus%2Freeborg_intro_en.json&name=Alone&url=worlds%2Ftutorial_en%2Falone.json\n"
   ]
  },
  {
   "cell_type": "code",
   "execution_count": 8,
   "id": "240eb8d8",
   "metadata": {},
   "outputs": [],
   "source": [
    "# def turn_right():\n",
    "#     turn_left()\n",
    "#     turn_left()\n",
    "#     turn_left()\n",
    "\n",
    "# def new_move():\n",
    "#     move()\n",
    "#     turn_left()\n",
    "#     move()\n",
    "#     turn_right()\n",
    "#     move()\n",
    "#     turn_right()\n",
    "#     move()\n",
    "#     turn_left()\n",
    "\n",
    "# for step in range(6):\n",
    "#     new_move()"
   ]
  },
  {
   "cell_type": "code",
   "execution_count": 9,
   "id": "f2b42cb1",
   "metadata": {},
   "outputs": [],
   "source": [
    "# while not at_goal():\n",
    "#     new_move()"
   ]
  },
  {
   "cell_type": "code",
   "execution_count": null,
   "id": "7d91927b",
   "metadata": {},
   "outputs": [],
   "source": []
  },
  {
   "cell_type": "markdown",
   "id": "d06e54ea",
   "metadata": {},
   "source": [
    "* **for** for each + range\n",
    "\n",
    "* **while** don't care at which itteration you are. You want to continue **UNTIL** smth. **DANGEROUS** because you don't have a set ending "
   ]
  },
  {
   "cell_type": "markdown",
   "id": "9649da9f",
   "metadata": {},
   "source": [
    "# hurdle 3"
   ]
  },
  {
   "cell_type": "code",
   "execution_count": 10,
   "id": "ac99b505",
   "metadata": {},
   "outputs": [],
   "source": [
    "# def turn_right():\n",
    "#     turn_left()\n",
    "#     turn_left()\n",
    "#     turn_left()\n",
    "    \n",
    "# def jump():\n",
    "#     turn_left()\n",
    "#     move()\n",
    "#     turn_right()\n",
    "#     move()\n",
    "#     turn_right()\n",
    "#     move()\n",
    "#     turn_left()\n",
    "    \n",
    "    \n",
    "# while not at_goal():\n",
    "#     if front_is_clear():\n",
    "#         move()\n",
    "#     else:\n",
    "#         jump()"
   ]
  },
  {
   "cell_type": "markdown",
   "id": "cc4c0c44",
   "metadata": {},
   "source": [
    "# hurdle 4"
   ]
  },
  {
   "cell_type": "code",
   "execution_count": 11,
   "id": "c5e3aa95",
   "metadata": {},
   "outputs": [],
   "source": [
    "# def turn_right():\n",
    "#     turn_left()\n",
    "#     turn_left()\n",
    "#     turn_left()\n",
    "       \n",
    "# while not at_goal():\n",
    "#     if front_is_clear():\n",
    "#         move()\n",
    "#     else:\n",
    "#        turn_left()\n",
    "#        while wall_on_right():  \n",
    "#             move()\n",
    "#        turn_right()\n",
    "#        move()\n",
    "#        turn_right()\n",
    "#        move()\n",
    "#        while front_is_clear():  \n",
    "#             move()\n",
    "#        turn_left() \n"
   ]
  },
  {
   "cell_type": "markdown",
   "id": "86b93238",
   "metadata": {},
   "source": [
    "# maze "
   ]
  },
  {
   "cell_type": "code",
   "execution_count": null,
   "id": "01280c86",
   "metadata": {},
   "outputs": [],
   "source": [
    "# while not at_goal():\n",
    "#     n=0\n",
    "#     while right_is_clear() and n<4 :\n",
    "#         turn_right()\n",
    "#         move()\n",
    "#         n+=1\n",
    "#     if front_is_clear():\n",
    "#         move()\n",
    "#     else:\n",
    "#         turn_left()\n"
   ]
  }
 ],
 "metadata": {
  "kernelspec": {
   "display_name": "Python 3",
   "language": "python",
   "name": "python3"
  },
  "language_info": {
   "codemirror_mode": {
    "name": "ipython",
    "version": 3
   },
   "file_extension": ".py",
   "mimetype": "text/x-python",
   "name": "python",
   "nbconvert_exporter": "python",
   "pygments_lexer": "ipython3",
   "version": "3.8.8"
  }
 },
 "nbformat": 4,
 "nbformat_minor": 5
}
